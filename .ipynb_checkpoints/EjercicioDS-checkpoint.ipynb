{
 "cells": [
  {
   "cell_type": "code",
   "execution_count": 92,
   "metadata": {},
   "outputs": [],
   "source": [
    "# realizo la importacion de las librerias con las que se \n",
    "# trabajara\n",
    "import pandas as pd # pandas para el manejo de datasets\n",
    "import numpy as np # numpy para el manejo de vectores\n",
    "import seaborn as sns # para graficar\n",
    "import matplotlib.pyplot as plt # graficas"
   ]
  },
  {
   "cell_type": "code",
   "execution_count": 93,
   "metadata": {},
   "outputs": [],
   "source": [
    "# ahora traemos las bases con las que trabajaremos\n",
    "e = pd.read_csv('C:\\\\Users\\\\Dell\\\\Downloads\\\\EjercicioDS\\\\klustera\\\\e.csv')\n",
    "v = pd.read_csv('C:\\\\Users\\\\Dell\\\\Downloads\\\\EjercicioDS\\\\klustera\\\\v.csv')\n",
    "# quedaron importados, no tenemos ningun error -> ya vienen en utf-8. Pero si no fuera asi:\n",
    "# este momento es ideal de especificar el encoding"
   ]
  },
  {
   "cell_type": "markdown",
   "metadata": {},
   "source": [
    "1. Conocer los .CVS"
   ]
  },
  {
   "cell_type": "markdown",
   "metadata": {},
   "source": [
    "Estos datos fueron captados con sensores de rastreo por la posicion de un celular mediante wifi.\n",
    "\n",
    "Suena a datos captados cuando te conectas al wifi de un Starbucks. (analogia personal para acercarme al problema)\n",
    "\n",
    "Para la segunda ocasion tu celular puede conectarse, pero no significa que estes usando la conexion. Puedo restringir la condicion a: tomar como conexion que el celular haga uso del wifi sin especificar si es con o sin intencion del usuario.  Mas tarde se verá que lo que hace a un visitante ser un visitante es su tiempo de sesión > 0, pero tambien que al menos tenga dos conexiones en el intervalo de medicion. Es decir, una persona que solo se conecto una sola vez al wifi, hizo uso de los datos o no, no será considerado como visitor = True."
   ]
  },
  {
   "cell_type": "markdown",
   "metadata": {},
   "source": [
    "+ **device_mac**:  identificador único de un celular, cada célula es una persona\n",
    "+ **branch_office**: es la sucursal de cliente\n",
    "+ **visitor**-> variable indicadora:  true significa que es visitante del lugar y false que no\n",
    "+ **tiempodeses**: es el tiempo de la sesión (en SEGUNDOS)\n"
   ]
  },
  {
   "cell_type": "code",
   "execution_count": 94,
   "metadata": {},
   "outputs": [
    {
     "data": {
      "text/html": [
       "<div>\n",
       "<style scoped>\n",
       "    .dataframe tbody tr th:only-of-type {\n",
       "        vertical-align: middle;\n",
       "    }\n",
       "\n",
       "    .dataframe tbody tr th {\n",
       "        vertical-align: top;\n",
       "    }\n",
       "\n",
       "    .dataframe thead th {\n",
       "        text-align: right;\n",
       "    }\n",
       "</style>\n",
       "<table border=\"1\" class=\"dataframe\">\n",
       "  <thead>\n",
       "    <tr style=\"text-align: right;\">\n",
       "      <th></th>\n",
       "      <th>Unnamed: 0</th>\n",
       "      <th>device_mac</th>\n",
       "      <th>branch_office</th>\n",
       "      <th>month_tz</th>\n",
       "      <th>day_tz</th>\n",
       "      <th>day_of_week_tz</th>\n",
       "      <th>hour_tz</th>\n",
       "      <th>visitor</th>\n",
       "      <th>tiempodeses</th>\n",
       "    </tr>\n",
       "  </thead>\n",
       "  <tbody>\n",
       "    <tr>\n",
       "      <th>217425</th>\n",
       "      <td>217426</td>\n",
       "      <td>e4:a4:71:00:4f:7e</td>\n",
       "      <td>1</td>\n",
       "      <td>11</td>\n",
       "      <td>3</td>\n",
       "      <td>Thursday</td>\n",
       "      <td>10</td>\n",
       "      <td>True</td>\n",
       "      <td>180</td>\n",
       "    </tr>\n",
       "    <tr>\n",
       "      <th>169337</th>\n",
       "      <td>169338</td>\n",
       "      <td>ac:bc:32:82:60:11</td>\n",
       "      <td>1</td>\n",
       "      <td>11</td>\n",
       "      <td>23</td>\n",
       "      <td>Wednesday</td>\n",
       "      <td>22</td>\n",
       "      <td>False</td>\n",
       "      <td>0</td>\n",
       "    </tr>\n",
       "    <tr>\n",
       "      <th>75947</th>\n",
       "      <td>75948</td>\n",
       "      <td>50:9e:a7:92:fd:26</td>\n",
       "      <td>3</td>\n",
       "      <td>11</td>\n",
       "      <td>29</td>\n",
       "      <td>Tuesday</td>\n",
       "      <td>18</td>\n",
       "      <td>False</td>\n",
       "      <td>0</td>\n",
       "    </tr>\n",
       "    <tr>\n",
       "      <th>18378</th>\n",
       "      <td>18379</td>\n",
       "      <td>10:68:3f:71:b5:6c</td>\n",
       "      <td>1</td>\n",
       "      <td>11</td>\n",
       "      <td>16</td>\n",
       "      <td>Wednesday</td>\n",
       "      <td>11</td>\n",
       "      <td>False</td>\n",
       "      <td>0</td>\n",
       "    </tr>\n",
       "    <tr>\n",
       "      <th>33721</th>\n",
       "      <td>33722</td>\n",
       "      <td>24:00:ba:cf:6e:d1</td>\n",
       "      <td>3</td>\n",
       "      <td>11</td>\n",
       "      <td>24</td>\n",
       "      <td>Thursday</td>\n",
       "      <td>12</td>\n",
       "      <td>False</td>\n",
       "      <td>0</td>\n",
       "    </tr>\n",
       "  </tbody>\n",
       "</table>\n",
       "</div>"
      ],
      "text/plain": [
       "        Unnamed: 0         device_mac  branch_office  month_tz  day_tz  \\\n",
       "217425      217426  e4:a4:71:00:4f:7e              1        11       3   \n",
       "169337      169338  ac:bc:32:82:60:11              1        11      23   \n",
       "75947        75948  50:9e:a7:92:fd:26              3        11      29   \n",
       "18378        18379  10:68:3f:71:b5:6c              1        11      16   \n",
       "33721        33722  24:00:ba:cf:6e:d1              3        11      24   \n",
       "\n",
       "       day_of_week_tz  hour_tz  visitor  tiempodeses  \n",
       "217425       Thursday       10     True          180  \n",
       "169337      Wednesday       22    False            0  \n",
       "75947         Tuesday       18    False            0  \n",
       "18378       Wednesday       11    False            0  \n",
       "33721        Thursday       12    False            0  "
      ]
     },
     "execution_count": 94,
     "metadata": {},
     "output_type": "execute_result"
    }
   ],
   "source": [
    "# vistazo a los datasets\n",
    "e.sample(5)\n",
    "# veo indices muy altos ¿cuantos registros hay?\n",
    "# hay una columna que no tiene nombre pero almacena los indices\n",
    "# del [1, n]. Como python empieza desde 0 los inidices\n",
    "# deberian de estar un numero antes del [0, n-1], \n",
    "# Confirmo que los indices automaticos de python corresponden con\n",
    "# los del .csv por lo que puede analizarse eliminar esa columna \"unnamed: 0\". \n",
    "# Nota: revisar si es importante el indice para unir ambos dataframe. Mas tarde \n",
    "# puedo confirmar que la otra base no añade columnas a la primera, sino\n",
    "# registros, por ello sí es posible eliminar la columna. \n",
    "\n",
    "# el registro 249432 tiene un valor extraño para el device_mac porque alamcena: \"Ion\". \n",
    "# hay que revisar con cuidado su significado"
   ]
  },
  {
   "cell_type": "code",
   "execution_count": 95,
   "metadata": {},
   "outputs": [],
   "source": [
    "# voy a eliminar la columna de indices y me quedo con los que maneja python\n",
    "e = e.drop(['Unnamed: 0'], axis = 1)\n",
    "# para elminar uso: .drop(['', axis=]) indico dentro el nombre de la columna, despues el axis\n",
    "v = v.drop(['Unnamed: 0'], axis = 1)"
   ]
  },
  {
   "cell_type": "code",
   "execution_count": 96,
   "metadata": {},
   "outputs": [
    {
     "data": {
      "text/html": [
       "<div>\n",
       "<style scoped>\n",
       "    .dataframe tbody tr th:only-of-type {\n",
       "        vertical-align: middle;\n",
       "    }\n",
       "\n",
       "    .dataframe tbody tr th {\n",
       "        vertical-align: top;\n",
       "    }\n",
       "\n",
       "    .dataframe thead th {\n",
       "        text-align: right;\n",
       "    }\n",
       "</style>\n",
       "<table border=\"1\" class=\"dataframe\">\n",
       "  <thead>\n",
       "    <tr style=\"text-align: right;\">\n",
       "      <th></th>\n",
       "      <th>device_mac</th>\n",
       "      <th>branch_office</th>\n",
       "      <th>month_tz</th>\n",
       "      <th>day_tz</th>\n",
       "      <th>day_of_week_tz</th>\n",
       "      <th>hour_tz</th>\n",
       "      <th>tiempodeses</th>\n",
       "    </tr>\n",
       "  </thead>\n",
       "  <tbody>\n",
       "    <tr>\n",
       "      <th>74951</th>\n",
       "      <td>a8:81:95:6e:f7:d2</td>\n",
       "      <td>3</td>\n",
       "      <td>11</td>\n",
       "      <td>7</td>\n",
       "      <td>Monday</td>\n",
       "      <td>21</td>\n",
       "      <td>21839</td>\n",
       "    </tr>\n",
       "    <tr>\n",
       "      <th>39306</th>\n",
       "      <td>ec:1f:72:a5:c1:ac</td>\n",
       "      <td>1</td>\n",
       "      <td>10</td>\n",
       "      <td>31</td>\n",
       "      <td>Monday</td>\n",
       "      <td>8</td>\n",
       "      <td>0</td>\n",
       "    </tr>\n",
       "    <tr>\n",
       "      <th>47235</th>\n",
       "      <td>14:f4:2a:c3:8a:1c</td>\n",
       "      <td>1</td>\n",
       "      <td>11</td>\n",
       "      <td>6</td>\n",
       "      <td>Sunday</td>\n",
       "      <td>16</td>\n",
       "      <td>0</td>\n",
       "    </tr>\n",
       "    <tr>\n",
       "      <th>41770</th>\n",
       "      <td>14:36:c6:c4:0a:3b</td>\n",
       "      <td>3</td>\n",
       "      <td>11</td>\n",
       "      <td>9</td>\n",
       "      <td>Wednesday</td>\n",
       "      <td>23</td>\n",
       "      <td>0</td>\n",
       "    </tr>\n",
       "    <tr>\n",
       "      <th>88540</th>\n",
       "      <td>9c:5c:f9:6f:11:6b</td>\n",
       "      <td>1</td>\n",
       "      <td>10</td>\n",
       "      <td>27</td>\n",
       "      <td>Thursday</td>\n",
       "      <td>17</td>\n",
       "      <td>34759</td>\n",
       "    </tr>\n",
       "  </tbody>\n",
       "</table>\n",
       "</div>"
      ],
      "text/plain": [
       "              device_mac  branch_office  month_tz  day_tz day_of_week_tz  \\\n",
       "74951  a8:81:95:6e:f7:d2              3        11       7         Monday   \n",
       "39306  ec:1f:72:a5:c1:ac              1        10      31         Monday   \n",
       "47235  14:f4:2a:c3:8a:1c              1        11       6         Sunday   \n",
       "41770  14:36:c6:c4:0a:3b              3        11       9      Wednesday   \n",
       "88540  9c:5c:f9:6f:11:6b              1        10      27       Thursday   \n",
       "\n",
       "       hour_tz  tiempodeses  \n",
       "74951       21        21839  \n",
       "39306        8            0  \n",
       "47235       16            0  \n",
       "41770       23            0  \n",
       "88540       17        34759  "
      ]
     },
     "execution_count": 96,
     "metadata": {},
     "output_type": "execute_result"
    }
   ],
   "source": [
    "v.sample(5) #vistazo rapido para entrar en contexto con la base"
   ]
  },
  {
   "cell_type": "markdown",
   "metadata": {},
   "source": [
    "# Descripcion:"
   ]
  },
  {
   "cell_type": "code",
   "execution_count": 225,
   "metadata": {},
   "outputs": [
    {
     "data": {
      "text/plain": [
       "device_mac        339556\n",
       "branch_office     339556\n",
       "month_tz          339556\n",
       "day_tz            339556\n",
       "day_of_week_tz    339556\n",
       "hour_tz           339556\n",
       "visitor           339556\n",
       "tiempodeses       339556\n",
       "dtype: int64"
      ]
     },
     "execution_count": 225,
     "metadata": {},
     "output_type": "execute_result"
    }
   ],
   "source": [
    "# revisar el problema de nulos\n",
    "ev.isnull().count()\n",
    "# no hay nulos"
   ]
  },
  {
   "cell_type": "code",
   "execution_count": 226,
   "metadata": {},
   "outputs": [
    {
     "data": {
      "text/html": [
       "<div>\n",
       "<style scoped>\n",
       "    .dataframe tbody tr th:only-of-type {\n",
       "        vertical-align: middle;\n",
       "    }\n",
       "\n",
       "    .dataframe tbody tr th {\n",
       "        vertical-align: top;\n",
       "    }\n",
       "\n",
       "    .dataframe thead th {\n",
       "        text-align: right;\n",
       "    }\n",
       "</style>\n",
       "<table border=\"1\" class=\"dataframe\">\n",
       "  <thead>\n",
       "    <tr style=\"text-align: right;\">\n",
       "      <th></th>\n",
       "      <th>branch_office</th>\n",
       "      <th>month_tz</th>\n",
       "      <th>day_tz</th>\n",
       "      <th>hour_tz</th>\n",
       "      <th>tiempodeses</th>\n",
       "    </tr>\n",
       "  </thead>\n",
       "  <tbody>\n",
       "    <tr>\n",
       "      <th>count</th>\n",
       "      <td>339556.000000</td>\n",
       "      <td>339556.000000</td>\n",
       "      <td>339556.000000</td>\n",
       "      <td>339556.000000</td>\n",
       "      <td>339556.000000</td>\n",
       "    </tr>\n",
       "    <tr>\n",
       "      <th>mean</th>\n",
       "      <td>1.884481</td>\n",
       "      <td>10.875537</td>\n",
       "      <td>14.802059</td>\n",
       "      <td>13.640386</td>\n",
       "      <td>2378.268135</td>\n",
       "    </tr>\n",
       "    <tr>\n",
       "      <th>std</th>\n",
       "      <td>0.942636</td>\n",
       "      <td>0.330109</td>\n",
       "      <td>9.459843</td>\n",
       "      <td>5.276101</td>\n",
       "      <td>8059.514529</td>\n",
       "    </tr>\n",
       "    <tr>\n",
       "      <th>min</th>\n",
       "      <td>1.000000</td>\n",
       "      <td>10.000000</td>\n",
       "      <td>1.000000</td>\n",
       "      <td>0.000000</td>\n",
       "      <td>0.000000</td>\n",
       "    </tr>\n",
       "    <tr>\n",
       "      <th>25%</th>\n",
       "      <td>1.000000</td>\n",
       "      <td>11.000000</td>\n",
       "      <td>7.000000</td>\n",
       "      <td>10.000000</td>\n",
       "      <td>0.000000</td>\n",
       "    </tr>\n",
       "    <tr>\n",
       "      <th>50%</th>\n",
       "      <td>1.000000</td>\n",
       "      <td>11.000000</td>\n",
       "      <td>13.000000</td>\n",
       "      <td>14.000000</td>\n",
       "      <td>0.000000</td>\n",
       "    </tr>\n",
       "    <tr>\n",
       "      <th>75%</th>\n",
       "      <td>3.000000</td>\n",
       "      <td>11.000000</td>\n",
       "      <td>24.000000</td>\n",
       "      <td>18.000000</td>\n",
       "      <td>422.000000</td>\n",
       "    </tr>\n",
       "    <tr>\n",
       "      <th>max</th>\n",
       "      <td>3.000000</td>\n",
       "      <td>11.000000</td>\n",
       "      <td>31.000000</td>\n",
       "      <td>23.000000</td>\n",
       "      <td>68062.000000</td>\n",
       "    </tr>\n",
       "  </tbody>\n",
       "</table>\n",
       "</div>"
      ],
      "text/plain": [
       "       branch_office       month_tz         day_tz        hour_tz  \\\n",
       "count  339556.000000  339556.000000  339556.000000  339556.000000   \n",
       "mean        1.884481      10.875537      14.802059      13.640386   \n",
       "std         0.942636       0.330109       9.459843       5.276101   \n",
       "min         1.000000      10.000000       1.000000       0.000000   \n",
       "25%         1.000000      11.000000       7.000000      10.000000   \n",
       "50%         1.000000      11.000000      13.000000      14.000000   \n",
       "75%         3.000000      11.000000      24.000000      18.000000   \n",
       "max         3.000000      11.000000      31.000000      23.000000   \n",
       "\n",
       "         tiempodeses  \n",
       "count  339556.000000  \n",
       "mean     2378.268135  \n",
       "std      8059.514529  \n",
       "min         0.000000  \n",
       "25%         0.000000  \n",
       "50%         0.000000  \n",
       "75%       422.000000  \n",
       "max     68062.000000  "
      ]
     },
     "execution_count": 226,
     "metadata": {},
     "output_type": "execute_result"
    }
   ],
   "source": [
    "# analisis descriptivo de la base de datos e\n",
    "ev.describe()\n",
    "# la unica variable de la cual tiene sentido obtener sus\n",
    "# estadisticas es del tiempo de sesion. Las conclusiones \n",
    "# para las demas columnas son las siguientes:\n",
    "# hay 31 dias, 3 oficinas, dos meses: octubre y noviembre\n",
    "# 24 horas, de las 0 a las 23\n",
    "# el promedio del tiempo de sesion es de 2378.26 segundos\n",
    "# sin embargo hay que revisarlo porque al ser media\n",
    "# esta siendo afectada por outlayers"
   ]
  },
  {
   "cell_type": "code",
   "execution_count": 97,
   "metadata": {},
   "outputs": [
    {
     "name": "stdout",
     "output_type": "stream",
     "text": [
      "El nombre de las columnas de la base e, es:  ['branch_office', 'day_of_week_tz', 'day_tz', 'device_mac', 'hour_tz', 'month_tz', 'tiempodeses', 'visitor']\n",
      "El nombre de las columnas de la base v, es:  ['branch_office', 'day_of_week_tz', 'day_tz', 'device_mac', 'hour_tz', 'month_tz', 'tiempodeses']\n"
     ]
    }
   ],
   "source": [
    "# obtener el nombre de las columnas:\n",
    "print('El nombre de las columnas de la base e, es: ', sorted(e.columns))\n",
    "# nota: el nombre de las columnas se ve bien, no tiene espacios en \n",
    "# blanco, parece que pueden manejarse sin problema\n",
    "\n",
    "print('El nombre de las columnas de la base v, es: ', sorted(v.columns))\n",
    "\n",
    "# la unica difetencia entre ambas bases de datos es una columna: la de visitor. En la base v  no viene. \n",
    "# Es parte del problema hallar como se determina esta columna y agregarla. "
   ]
  },
  {
   "cell_type": "code",
   "execution_count": 191,
   "metadata": {},
   "outputs": [
    {
     "name": "stdout",
     "output_type": "stream",
     "text": [
      "¿Qué meses existen?  [11 10]\n"
     ]
    }
   ],
   "source": [
    "print('¿Qué meses existen? ', ev.month_tz.unique())\n",
    "# es decir esta base solo hizo mediciones para los meses de \n",
    "# OCTUBRE y NOVIEMBRE\n",
    "# esto me da una idea de la posible estacionalidad del comportamiento de las personas\n",
    "# ¿por que estos meses en particular?"
   ]
  },
  {
   "cell_type": "code",
   "execution_count": 192,
   "metadata": {},
   "outputs": [],
   "source": [
    "#sorted(ev.day_tz.unique()) # rango: [1,31], concluyo que \n",
    "# nada fuera de lo comun en la serie de dias"
   ]
  },
  {
   "cell_type": "code",
   "execution_count": 193,
   "metadata": {},
   "outputs": [
    {
     "data": {
      "text/plain": [
       "array(['Wednesday', 'Sunday', 'Friday', 'Thursday', 'Saturday', 'Tuesday',\n",
       "       'Monday'], dtype=object)"
      ]
     },
     "execution_count": 193,
     "metadata": {},
     "output_type": "execute_result"
    }
   ],
   "source": [
    "ev.day_of_week_tz.unique() # hay 7 dias de la semana"
   ]
  },
  {
   "cell_type": "code",
   "execution_count": 194,
   "metadata": {},
   "outputs": [
    {
     "name": "stdout",
     "output_type": "stream",
     "text": [
      "Oficinas disponibles: "
     ]
    },
    {
     "data": {
      "text/plain": [
       "array([1, 3, 2], dtype=int64)"
      ]
     },
     "execution_count": 194,
     "metadata": {},
     "output_type": "execute_result"
    }
   ],
   "source": [
    "# ¿cuantas oficinas hay?\n",
    "print('Oficinas disponibles: ', end = '')\n",
    "# solo hay 3 sucursales a las que pueden acudir los clientes\n",
    "ev.branch_office.unique()\n"
   ]
  },
  {
   "cell_type": "code",
   "execution_count": 185,
   "metadata": {},
   "outputs": [
    {
     "name": "stdout",
     "output_type": "stream",
     "text": [
      "El numero de registros en la base e:  249556\n",
      "El numero de columnas del dataset e es:  8\n",
      "\n",
      "\n",
      "El numero de registros es en la base v:  90000\n",
      "El numero de columnas del dataset v es:  8\n"
     ]
    }
   ],
   "source": [
    "# ¿cuantos registros hay?\n",
    "print('El numero de registros en la base e: ', e.shape[0])\n",
    "print('El numero de columnas del dataset e es: ', e.shape[1])\n",
    "\n",
    "# recordar que los indices en python inician desde 0\n",
    "print('\\n')\n",
    "print('El numero de registros es en la base v: ', v.shape[0])\n",
    "print('El numero de columnas del dataset v es: ', v.shape[1])\n",
    "\n",
    "# la base v tiene una columna menos, se debe a que le falta la de 'visitor'\n",
    "# para las demas columnas, contiene las mismas que la base e\n"
   ]
  },
  {
   "cell_type": "code",
   "execution_count": 197,
   "metadata": {},
   "outputs": [],
   "source": [
    "# sorted(ev.hour_tz.unique()) # rango [0, 23] ¿las oficinas estan \n",
    "# abiertas a las 24 hrs?\n",
    "# practicamente tiene todas las horas del dia ¿por que? \n",
    "# Esto redirige el analisis, \n",
    "#  ¿ de que manera un usuario se conecta en la madrugada?\n",
    "# surgen preguntas sobre la ubicacion del wifi y las \n",
    "# costumbres de los usuarios"
   ]
  },
  {
   "cell_type": "markdown",
   "metadata": {},
   "source": [
    "Voy a agregar la columna faltante a la base v, para despues unirlas ambas y trabajar con solo una"
   ]
  },
  {
   "cell_type": "code",
   "execution_count": 99,
   "metadata": {},
   "outputs": [
    {
     "data": {
      "text/plain": [
       "Index(['00:20:00:94:8e:d3', 'lon', '00:23:68:b2:58:a7', '64:66:b3:ba:6d:fc',\n",
       "       '68:b5:99:8d:05:07', '9c:8e:99:07:48:5d', '8c:0c:90:d2:dd:6b',\n",
       "       '8c:0c:90:12:dd:68', '8c:0c:90:52:dd:68', 'd0:e7:82:f5:be:c0',\n",
       "       ...\n",
       "       'ec:1f:72:31:60:32', 'ec:1f:72:3a:29:f0', '88:70:8c:47:57:38',\n",
       "       '28:27:bf:29:7c:a3', '38:c9:86:e9:30:bc', 'e4:58:b8:22:7f:d7',\n",
       "       'f4:dc:f9:d3:1d:39', '5c:8d:4e:45:fe:75', '84:7a:88:6b:e3:6e',\n",
       "       '90:67:1c:76:1c:d7'],\n",
       "      dtype='object', length=10174)"
      ]
     },
     "execution_count": 99,
     "metadata": {},
     "output_type": "execute_result"
    }
   ],
   "source": [
    "frecuentes = v.device_mac.value_counts()[v.device_mac.value_counts() > 1 ].index\n",
    "frecuentes"
   ]
  },
  {
   "cell_type": "code",
   "execution_count": 100,
   "metadata": {},
   "outputs": [],
   "source": [
    "v['visitor'] = np.where((v.device_mac.isin(frecuentes)) & (v.tiempodeses >0) , True, False)"
   ]
  },
  {
   "cell_type": "code",
   "execution_count": 181,
   "metadata": {},
   "outputs": [
    {
     "data": {
      "text/html": [
       "<div>\n",
       "<style scoped>\n",
       "    .dataframe tbody tr th:only-of-type {\n",
       "        vertical-align: middle;\n",
       "    }\n",
       "\n",
       "    .dataframe tbody tr th {\n",
       "        vertical-align: top;\n",
       "    }\n",
       "\n",
       "    .dataframe thead th {\n",
       "        text-align: right;\n",
       "    }\n",
       "</style>\n",
       "<table border=\"1\" class=\"dataframe\">\n",
       "  <thead>\n",
       "    <tr style=\"text-align: right;\">\n",
       "      <th></th>\n",
       "      <th>device_mac</th>\n",
       "      <th>branch_office</th>\n",
       "      <th>month_tz</th>\n",
       "      <th>day_tz</th>\n",
       "      <th>day_of_week_tz</th>\n",
       "      <th>hour_tz</th>\n",
       "      <th>tiempodeses</th>\n",
       "      <th>visitor</th>\n",
       "    </tr>\n",
       "  </thead>\n",
       "  <tbody>\n",
       "    <tr>\n",
       "      <th>73501</th>\n",
       "      <td>4c:66:41:6c:3d:e1</td>\n",
       "      <td>1</td>\n",
       "      <td>11</td>\n",
       "      <td>2</td>\n",
       "      <td>Wednesday</td>\n",
       "      <td>9</td>\n",
       "      <td>1553</td>\n",
       "      <td>False</td>\n",
       "    </tr>\n",
       "    <tr>\n",
       "      <th>19495</th>\n",
       "      <td>ac:38:70:60:8b:e1</td>\n",
       "      <td>3</td>\n",
       "      <td>11</td>\n",
       "      <td>15</td>\n",
       "      <td>Tuesday</td>\n",
       "      <td>8</td>\n",
       "      <td>0</td>\n",
       "      <td>False</td>\n",
       "    </tr>\n",
       "    <tr>\n",
       "      <th>11309</th>\n",
       "      <td>f8:e0:79:b4:93:2c</td>\n",
       "      <td>3</td>\n",
       "      <td>11</td>\n",
       "      <td>24</td>\n",
       "      <td>Thursday</td>\n",
       "      <td>11</td>\n",
       "      <td>169</td>\n",
       "      <td>False</td>\n",
       "    </tr>\n",
       "    <tr>\n",
       "      <th>14590</th>\n",
       "      <td>18:3a:2d:dd:84:90</td>\n",
       "      <td>3</td>\n",
       "      <td>11</td>\n",
       "      <td>15</td>\n",
       "      <td>Tuesday</td>\n",
       "      <td>21</td>\n",
       "      <td>0</td>\n",
       "      <td>False</td>\n",
       "    </tr>\n",
       "    <tr>\n",
       "      <th>32303</th>\n",
       "      <td>14:d1:1f:6e:3c:b3</td>\n",
       "      <td>1</td>\n",
       "      <td>11</td>\n",
       "      <td>12</td>\n",
       "      <td>Saturday</td>\n",
       "      <td>16</td>\n",
       "      <td>2092</td>\n",
       "      <td>True</td>\n",
       "    </tr>\n",
       "  </tbody>\n",
       "</table>\n",
       "</div>"
      ],
      "text/plain": [
       "              device_mac  branch_office  month_tz  day_tz day_of_week_tz  \\\n",
       "73501  4c:66:41:6c:3d:e1              1        11       2      Wednesday   \n",
       "19495  ac:38:70:60:8b:e1              3        11      15        Tuesday   \n",
       "11309  f8:e0:79:b4:93:2c              3        11      24       Thursday   \n",
       "14590  18:3a:2d:dd:84:90              3        11      15        Tuesday   \n",
       "32303  14:d1:1f:6e:3c:b3              1        11      12       Saturday   \n",
       "\n",
       "       hour_tz  tiempodeses  visitor  \n",
       "73501        9         1553    False  \n",
       "19495        8            0    False  \n",
       "11309       11          169    False  \n",
       "14590       21            0    False  \n",
       "32303       16         2092     True  "
      ]
     },
     "execution_count": 181,
     "metadata": {},
     "output_type": "execute_result"
    }
   ],
   "source": [
    "v.sample(5)"
   ]
  },
  {
   "cell_type": "markdown",
   "metadata": {},
   "source": [
    "En este paso voy a exportar la base de datos v con la columna visitor agregada. \n",
    "\n",
    "He nombrado v1 al .csv que ya contiene la columna visitor"
   ]
  },
  {
   "cell_type": "code",
   "execution_count": 182,
   "metadata": {},
   "outputs": [],
   "source": [
    "# v.to_csv(r'C:\\\\Users\\\\Dell\\\\Downloads\\\\EjercicioDS\\\\klustera\\\\v1.csv')"
   ]
  },
  {
   "cell_type": "markdown",
   "metadata": {},
   "source": [
    "### Uniré ambos .csv \n",
    "\n",
    "Para analizar los datos en conjunto y sus proporciones"
   ]
  },
  {
   "cell_type": "code",
   "execution_count": 102,
   "metadata": {},
   "outputs": [
    {
     "data": {
      "text/html": [
       "<div>\n",
       "<style scoped>\n",
       "    .dataframe tbody tr th:only-of-type {\n",
       "        vertical-align: middle;\n",
       "    }\n",
       "\n",
       "    .dataframe tbody tr th {\n",
       "        vertical-align: top;\n",
       "    }\n",
       "\n",
       "    .dataframe thead th {\n",
       "        text-align: right;\n",
       "    }\n",
       "</style>\n",
       "<table border=\"1\" class=\"dataframe\">\n",
       "  <thead>\n",
       "    <tr style=\"text-align: right;\">\n",
       "      <th></th>\n",
       "      <th>device_mac</th>\n",
       "      <th>branch_office</th>\n",
       "      <th>month_tz</th>\n",
       "      <th>day_tz</th>\n",
       "      <th>day_of_week_tz</th>\n",
       "      <th>hour_tz</th>\n",
       "      <th>visitor</th>\n",
       "      <th>tiempodeses</th>\n",
       "    </tr>\n",
       "  </thead>\n",
       "  <tbody>\n",
       "    <tr>\n",
       "      <th>230081</th>\n",
       "      <td>ec:88:92:76:74:2e</td>\n",
       "      <td>3</td>\n",
       "      <td>11</td>\n",
       "      <td>30</td>\n",
       "      <td>Wednesday</td>\n",
       "      <td>11</td>\n",
       "      <td>False</td>\n",
       "      <td>0</td>\n",
       "    </tr>\n",
       "    <tr>\n",
       "      <th>6978</th>\n",
       "      <td>34:23:ba:21:37:cb</td>\n",
       "      <td>3</td>\n",
       "      <td>11</td>\n",
       "      <td>8</td>\n",
       "      <td>Tuesday</td>\n",
       "      <td>6</td>\n",
       "      <td>False</td>\n",
       "      <td>0</td>\n",
       "    </tr>\n",
       "    <tr>\n",
       "      <th>126520</th>\n",
       "      <td>84:51:81:ae:6a:27</td>\n",
       "      <td>1</td>\n",
       "      <td>11</td>\n",
       "      <td>9</td>\n",
       "      <td>Wednesday</td>\n",
       "      <td>19</td>\n",
       "      <td>False</td>\n",
       "      <td>0</td>\n",
       "    </tr>\n",
       "    <tr>\n",
       "      <th>137588</th>\n",
       "      <td>8e:64:6a:3d:52:5a</td>\n",
       "      <td>1</td>\n",
       "      <td>11</td>\n",
       "      <td>3</td>\n",
       "      <td>Thursday</td>\n",
       "      <td>9</td>\n",
       "      <td>False</td>\n",
       "      <td>0</td>\n",
       "    </tr>\n",
       "    <tr>\n",
       "      <th>234594</th>\n",
       "      <td>f0:25:b7:89:f3:e3</td>\n",
       "      <td>2</td>\n",
       "      <td>11</td>\n",
       "      <td>24</td>\n",
       "      <td>Thursday</td>\n",
       "      <td>14</td>\n",
       "      <td>True</td>\n",
       "      <td>678</td>\n",
       "    </tr>\n",
       "  </tbody>\n",
       "</table>\n",
       "</div>"
      ],
      "text/plain": [
       "               device_mac  branch_office  month_tz  day_tz day_of_week_tz  \\\n",
       "230081  ec:88:92:76:74:2e              3        11      30      Wednesday   \n",
       "6978    34:23:ba:21:37:cb              3        11       8        Tuesday   \n",
       "126520  84:51:81:ae:6a:27              1        11       9      Wednesday   \n",
       "137588  8e:64:6a:3d:52:5a              1        11       3       Thursday   \n",
       "234594  f0:25:b7:89:f3:e3              2        11      24       Thursday   \n",
       "\n",
       "        hour_tz  visitor  tiempodeses  \n",
       "230081       11    False            0  \n",
       "6978          6    False            0  \n",
       "126520       19    False            0  \n",
       "137588        9    False            0  \n",
       "234594       14     True          678  "
      ]
     },
     "execution_count": 102,
     "metadata": {},
     "output_type": "execute_result"
    }
   ],
   "source": [
    "ev = pd.concat([e, v], axis = 0)\n",
    "ev.sample(5)"
   ]
  },
  {
   "cell_type": "code",
   "execution_count": 103,
   "metadata": {},
   "outputs": [
    {
     "name": "stdout",
     "output_type": "stream",
     "text": [
      "Dimensiones del dataframe \"ev\" (union de ambos) (339556, 8)\n"
     ]
    }
   ],
   "source": [
    "print('Dimensiones del dataframe \"ev\" (union de ambos)', ev.shape)"
   ]
  },
  {
   "cell_type": "code",
   "execution_count": 120,
   "metadata": {},
   "outputs": [
    {
     "name": "stdout",
     "output_type": "stream",
     "text": [
      "Registros unicos en la base e:  125252\n"
     ]
    }
   ],
   "source": [
    "# ¿el numero de celulas corresponde con el total de registros?\n",
    "# es decir ¿hay varias visitas de una misma persona o todas son\n",
    "# visitas diferentes?\n",
    "print('Registros unicos en la base e: ', len(e.device_mac.unique()) )\n",
    "# debido a que el total de registros no es igual con el total de datos unicos\n",
    "# hubo al menos dos visitas por la misma persona en el registro\n",
    "# es decir: la misma persona acudió a la sucursal mas de una vez.\n",
    "# ¿fue a la misma sucursal o fue a otras?"
   ]
  },
  {
   "cell_type": "code",
   "execution_count": 104,
   "metadata": {},
   "outputs": [
    {
     "name": "stdout",
     "output_type": "stream",
     "text": [
      "Numero de personas unicas en ev:  157074\n",
      "Personas que se conectaron 1 o al menos 1 vez al wifi:  46.26 %\n",
      "Personas que se conectaron 2 o mas veces al wifi:  53.74 %\n"
     ]
    }
   ],
   "source": [
    "# Para ambas bases para visitantes y no visitantes:\n",
    "# ¿cuantas personas hay que son unicas? \n",
    "print('Numero de personas unicas en ev: ', len(ev.device_mac.unique()))\n",
    "\n",
    "total_registros = ev.shape[0]\n",
    "personas_unicas = len(ev.device_mac.unique())\n",
    "print('Personas que se conectaron 1 o al menos 1 vez al wifi: ', \n",
    "      round((personas_unicas / total_registros)* 100, 2),'%')\n",
    "print('Personas que se conectaron 2 o mas veces al wifi: ', \n",
    "      100-round((personas_unicas / total_registros)* 100, 2),'%')\n",
    "# En esta base de datos el 53.74% de las personas se conectaron dos o mas veces al wifi\n"
   ]
  },
  {
   "cell_type": "markdown",
   "metadata": {},
   "source": [
    "#### Base de datos unida y fitrada unicamente por visitantes frecuentes:"
   ]
  },
  {
   "cell_type": "code",
   "execution_count": 188,
   "metadata": {},
   "outputs": [
    {
     "data": {
      "text/html": [
       "<div>\n",
       "<style scoped>\n",
       "    .dataframe tbody tr th:only-of-type {\n",
       "        vertical-align: middle;\n",
       "    }\n",
       "\n",
       "    .dataframe tbody tr th {\n",
       "        vertical-align: top;\n",
       "    }\n",
       "\n",
       "    .dataframe thead th {\n",
       "        text-align: right;\n",
       "    }\n",
       "</style>\n",
       "<table border=\"1\" class=\"dataframe\">\n",
       "  <thead>\n",
       "    <tr style=\"text-align: right;\">\n",
       "      <th></th>\n",
       "      <th>device_mac</th>\n",
       "      <th>branch_office</th>\n",
       "      <th>month_tz</th>\n",
       "      <th>day_tz</th>\n",
       "      <th>day_of_week_tz</th>\n",
       "      <th>hour_tz</th>\n",
       "      <th>visitor</th>\n",
       "      <th>tiempodeses</th>\n",
       "    </tr>\n",
       "  </thead>\n",
       "  <tbody>\n",
       "    <tr>\n",
       "      <th>102550</th>\n",
       "      <td>6c:94:f8:52:69:bc</td>\n",
       "      <td>2</td>\n",
       "      <td>11</td>\n",
       "      <td>28</td>\n",
       "      <td>Monday</td>\n",
       "      <td>19</td>\n",
       "      <td>True</td>\n",
       "      <td>1397</td>\n",
       "    </tr>\n",
       "    <tr>\n",
       "      <th>187075</th>\n",
       "      <td>c0:bd:d1:2a:42:86</td>\n",
       "      <td>3</td>\n",
       "      <td>11</td>\n",
       "      <td>10</td>\n",
       "      <td>Thursday</td>\n",
       "      <td>16</td>\n",
       "      <td>True</td>\n",
       "      <td>1474</td>\n",
       "    </tr>\n",
       "    <tr>\n",
       "      <th>7408</th>\n",
       "      <td>20:2d:07:df:5b:a7</td>\n",
       "      <td>1</td>\n",
       "      <td>10</td>\n",
       "      <td>28</td>\n",
       "      <td>Friday</td>\n",
       "      <td>20</td>\n",
       "      <td>True</td>\n",
       "      <td>262</td>\n",
       "    </tr>\n",
       "  </tbody>\n",
       "</table>\n",
       "</div>"
      ],
      "text/plain": [
       "               device_mac  branch_office  month_tz  day_tz day_of_week_tz  \\\n",
       "102550  6c:94:f8:52:69:bc              2        11      28         Monday   \n",
       "187075  c0:bd:d1:2a:42:86              3        11      10       Thursday   \n",
       "7408    20:2d:07:df:5b:a7              1        10      28         Friday   \n",
       "\n",
       "        hour_tz  visitor  tiempodeses  \n",
       "102550       19     True         1397  \n",
       "187075       16     True         1474  \n",
       "7408         20     True          262  "
      ]
     },
     "execution_count": 188,
     "metadata": {},
     "output_type": "execute_result"
    }
   ],
   "source": [
    "# debo separar entre visitantes y no visitantes\n",
    "visitantes_frecuentes = ev[ev.visitor == True]\n",
    "visitantes_frecuentes.sample(3)"
   ]
  },
  {
   "cell_type": "code",
   "execution_count": 189,
   "metadata": {},
   "outputs": [
    {
     "data": {
      "text/html": [
       "<div>\n",
       "<style scoped>\n",
       "    .dataframe tbody tr th:only-of-type {\n",
       "        vertical-align: middle;\n",
       "    }\n",
       "\n",
       "    .dataframe tbody tr th {\n",
       "        vertical-align: top;\n",
       "    }\n",
       "\n",
       "    .dataframe thead th {\n",
       "        text-align: right;\n",
       "    }\n",
       "</style>\n",
       "<table border=\"1\" class=\"dataframe\">\n",
       "  <thead>\n",
       "    <tr style=\"text-align: right;\">\n",
       "      <th></th>\n",
       "      <th>device_mac</th>\n",
       "      <th>branch_office</th>\n",
       "      <th>month_tz</th>\n",
       "      <th>day_tz</th>\n",
       "      <th>day_of_week_tz</th>\n",
       "      <th>hour_tz</th>\n",
       "      <th>visitor</th>\n",
       "      <th>tiempodeses</th>\n",
       "    </tr>\n",
       "  </thead>\n",
       "  <tbody>\n",
       "    <tr>\n",
       "      <th>22397</th>\n",
       "      <td>14:3e:bf:f1:39:63</td>\n",
       "      <td>1</td>\n",
       "      <td>11</td>\n",
       "      <td>12</td>\n",
       "      <td>Saturday</td>\n",
       "      <td>17</td>\n",
       "      <td>False</td>\n",
       "      <td>0</td>\n",
       "    </tr>\n",
       "    <tr>\n",
       "      <th>74107</th>\n",
       "      <td>d8:c4:6a:92:fd:20</td>\n",
       "      <td>1</td>\n",
       "      <td>11</td>\n",
       "      <td>24</td>\n",
       "      <td>Thursday</td>\n",
       "      <td>15</td>\n",
       "      <td>False</td>\n",
       "      <td>0</td>\n",
       "    </tr>\n",
       "    <tr>\n",
       "      <th>162889</th>\n",
       "      <td>a4:ba:76:b0:cc:10</td>\n",
       "      <td>3</td>\n",
       "      <td>11</td>\n",
       "      <td>16</td>\n",
       "      <td>Wednesday</td>\n",
       "      <td>15</td>\n",
       "      <td>False</td>\n",
       "      <td>0</td>\n",
       "    </tr>\n",
       "  </tbody>\n",
       "</table>\n",
       "</div>"
      ],
      "text/plain": [
       "               device_mac  branch_office  month_tz  day_tz day_of_week_tz  \\\n",
       "22397   14:3e:bf:f1:39:63              1        11      12       Saturday   \n",
       "74107   d8:c4:6a:92:fd:20              1        11      24       Thursday   \n",
       "162889  a4:ba:76:b0:cc:10              3        11      16      Wednesday   \n",
       "\n",
       "        hour_tz  visitor  tiempodeses  \n",
       "22397        17    False            0  \n",
       "74107        15    False            0  \n",
       "162889       15    False            0  "
      ]
     },
     "execution_count": 189,
     "metadata": {},
     "output_type": "execute_result"
    }
   ],
   "source": [
    "visitantes_no_frecuentes = ev[ev.visitor == False]\n",
    "visitantes_no_frecuentes.sample(3)"
   ]
  },
  {
   "cell_type": "code",
   "execution_count": 236,
   "metadata": {},
   "outputs": [
    {
     "data": {
      "text/plain": [
       "7172.306496335908"
      ]
     },
     "execution_count": 236,
     "metadata": {},
     "output_type": "execute_result"
    }
   ],
   "source": [
    "# tiempo de sesion promedio parra visitantes frecuentes\n",
    "visitantes_frecuentes.tiempodeses.mean()"
   ]
  },
  {
   "cell_type": "code",
   "execution_count": 237,
   "metadata": {},
   "outputs": [
    {
     "data": {
      "text/plain": [
       "47.57461987587426"
      ]
     },
     "execution_count": 237,
     "metadata": {},
     "output_type": "execute_result"
    }
   ],
   "source": [
    "# tiempo de sesion promedio para visitantes no frecuentes\n",
    "visitantes_no_frecuentes.tiempodeses.mean()"
   ]
  },
  {
   "cell_type": "code",
   "execution_count": 221,
   "metadata": {},
   "outputs": [
    {
     "data": {
      "image/png": "[encoded data removed]",
      "text/plain": [
       "<Figure size 432x288 with 1 Axes>"
      ]
     },
     "metadata": {
      "needs_background": "light"
     },
     "output_type": "display_data"
    }
   ],
   "source": [
    "# aplico los siguientes filtros: De la base de datos unida por e y v, \n",
    "# con v incluyendo la columna de visitor: 1 quiero los visitantes frecuentes\n",
    "# 2 solo quiero las conexiones con tiempo de sesion positiva\n",
    "\n",
    "frecuentes_ysesion = visitantes_frecuentes[visitantes_frecuentes.tiempodeses > 0 ]\n",
    "sns.histplot(frecuentes_ysesion.day_of_week_tz)\n",
    "# se nota la siguiente distribucion:\n",
    "# las conexiones mas bajas ocurren en domingo y viernes\n",
    "# aumenta el tiempo de sesion conforme avanzan los dias\n",
    "# hasta llegar al tiempo maximo en miercoles, a partir\n",
    "# de este dia disminuye de nuevo hasta llegar al\n",
    "# punto minimo del viernes \n",
    "# en sabado aumenta un poco el tiempo de sesion\n",
    "# pero vuelve a caer para el domingo\n",
    "\n",
    "# ¿como indicarle el orden de los dias al\n",
    "# histograma? Para que pueda apreciarse la\n",
    "# forma de la distribucion\n",
    "plt.title('Distribucion del tiempo de sesion para los visitantes frecuentes');"
   ]
  },
  {
   "cell_type": "code",
   "execution_count": 118,
   "metadata": {},
   "outputs": [
    {
     "data": {
      "image/png": "[encoded data removed]",
      "text/plain": [
       "<Figure size 432x288 with 1 Axes>"
      ]
     },
     "metadata": {
      "needs_background": "light"
     },
     "output_type": "display_data"
    }
   ],
   "source": [
    "# ¿que dia prefieren conectarse las personas que no son visitantes frecuentes? Miercoles\n",
    "sns.histplot(visitantes_no_frecuentes.day_of_week_tz)\n",
    "plt.title('Dia en el que asisten las personas menos interesadas en usar wifi');\n"
   ]
  },
  {
   "cell_type": "code",
   "execution_count": 107,
   "metadata": {},
   "outputs": [
    {
     "name": "stdout",
     "output_type": "stream",
     "text": [
      "Personas que se conectaron 1 vez:  0.32\n",
      "Personas que se conectaron dos o mas veces:  0.68\n"
     ]
    }
   ],
   "source": [
    "# visitantes_frecuentes # 85,244 registros \n",
    "# len(visitantes_frecuentes.device_mac.unique()) #27439 personas \n",
    "print('Personas que se conectaron 1 vez: ', round(27439/85244,2))\n",
    "# el 30% de las conexiones son unicas, el restante 70% es gente que se volvio a conectar\n",
    "# incluye las que se conectaron 1 o mas\n",
    "print('Personas que se conectaron dos o mas veces: ', round(1 -(27439/85244), 2) )"
   ]
  },
  {
   "cell_type": "code",
   "execution_count": 108,
   "metadata": {},
   "outputs": [
    {
     "data": {
      "image/png": "[encoded data removed]",
      "text/plain": [
       "<Figure size 432x288 with 1 Axes>"
      ]
     },
     "metadata": {},
     "output_type": "display_data"
    }
   ],
   "source": [
    "# aqui ya esta dividido para visitantes unicamente\n",
    "porcentajes = [0.32, 0.68]\n",
    "nombres = ['única conexion', '2 o mas conexiones']\n",
    "plt.pie(porcentajes, labels= nombres, autopct = \"%0.1f %%\")\n",
    "plt.title('Un tercio de personas no volvieron a usar nuestro wifi');"
   ]
  },
  {
   "cell_type": "code",
   "execution_count": 47,
   "metadata": {},
   "outputs": [
    {
     "data": {
      "text/plain": [
       "branch_office\n",
       "1    45012\n",
       "2    13542\n",
       "3    26690\n",
       "Name: device_mac, dtype: int64"
      ]
     },
     "execution_count": 47,
     "metadata": {},
     "output_type": "execute_result"
    }
   ],
   "source": [
    "# ¿cuantas personas van a cada oficina?\n",
    "# ¿que oficina es mas famosa?\n",
    "# ¿cual oficina es la menos concurrida?\n",
    "asistencia = visitantes_frecuentes.groupby(['branch_office'])\n",
    "asistencia_branch = asistencia.device_mac.count()\n",
    "asistencia_branch"
   ]
  },
  {
   "cell_type": "code",
   "execution_count": 196,
   "metadata": {},
   "outputs": [
    {
     "data": {
      "image/png": "[encoded data removed]",
      "text/plain": [
       "<Figure size 432x288 with 1 Axes>"
      ]
     },
     "metadata": {
      "needs_background": "light"
     },
     "output_type": "display_data"
    }
   ],
   "source": [
    "sns.histplot(visitantes_frecuentes.branch_office, bins = 9)\n",
    "# la oficina con mas visitas es la 1\n",
    "# la oficina con menos visitas es la 2\n",
    "# ¿ a que se debe? Encontrar los factores que influyen en este flujo\n",
    "plt.title('Sucursal con mas clientes');"
   ]
  },
  {
   "cell_type": "code",
   "execution_count": 241,
   "metadata": {},
   "outputs": [
    {
     "data": {
      "image/png": "[encoded data removed]",
      "text/plain": [
       "<Figure size 432x288 with 1 Axes>"
      ]
     },
     "metadata": {
      "needs_background": "light"
     },
     "output_type": "display_data"
    }
   ],
   "source": [
    "visitantes = ev[ev.visitor == True]\n",
    "plt.hist(visitantes.tiempodeses);"
   ]
  },
  {
   "cell_type": "code",
   "execution_count": 190,
   "metadata": {},
   "outputs": [
    {
     "name": "stdout",
     "output_type": "stream",
     "text": [
      "Oficina y su porcentaje de asistencia  branch_office\n",
      "1    40.52\n",
      "2    12.19\n",
      "3    24.03\n",
      "Name: device_mac, dtype: float64\n",
      "\n",
      "\n",
      "Oficina menos popular:  2\n",
      "\n",
      "\n",
      "Oficina con mas afluencia:  1\n"
     ]
    }
   ],
   "source": [
    "# afluencia en porcentaje\n",
    "# recordar separar entre visitor para que no afecte las conclusiones del analisis\n",
    "print('Oficina y su porcentaje de asistencia ', round((asistencia_branch /total_visitantes_frecuentes)*100,2))\n",
    "print('\\n')\n",
    "print('Oficina menos popular: ', 2)\n",
    "print('\\n')\n",
    "print('Oficina con mas afluencia: ', 1)"
   ]
  },
  {
   "cell_type": "markdown",
   "metadata": {},
   "source": [
    "### Siguiente paso: profundizar:\n",
    "\n",
    "+ ¿qué sucursal tiene mas clientes?\n",
    "+ ¿a que hora?\n",
    "+ ¿por que a esa hora, por que esa sucursal?\n",
    "+ ¿ a los clientes les gusta ir mas ahi? (pensando que sea un starbucks)\n",
    "+ ¿les gusta ir o de hecho van mucho porque no les solucionan? (pensando que fuera una tienda de atencion al cliente)\n",
    "+ ¿con los datos que tengo puedo inferir porque tienen mas usuarios esas sucursales?\n",
    "\n",
    "+ ¿que hacen cuando van?\n",
    "+ ¿ a que van?\n",
    "+ ¿de que se trata esta base? ¿que mide? ¿cada cuanto? ¿ para que?"
   ]
  },
  {
   "cell_type": "code",
   "execution_count": 242,
   "metadata": {},
   "outputs": [
    {
     "name": "stdout",
     "output_type": "stream",
     "text": [
      "Tiempo en minutos de una sesion promedio:  39.64\n"
     ]
    }
   ],
   "source": [
    "# promedio de minutos por sesion\n",
    "sesion_promedio_s = ev.tiempodeses.mean()\n",
    "sesion_promedio = round(sesion_promedio_s/60, 2)\n",
    "print('Tiempo en minutos de una sesion promedio: ', sesion_promedio)\n",
    "# NOTA: este promedio esta sesgado debido a los valores atipicos"
   ]
  },
  {
   "cell_type": "code",
   "execution_count": 243,
   "metadata": {},
   "outputs": [
    {
     "name": "stdout",
     "output_type": "stream",
     "text": [
      "Tiempo minimo en segundos de una sesion:  0\n",
      "Tiempo maximo de una sesion en horas:  18.91\n"
     ]
    }
   ],
   "source": [
    "print('Tiempo minimo en segundos de una sesion: ', min(ev.tiempodeses))\n",
    "print('Tiempo maximo de una sesion en horas: ', round(max(ev.tiempodeses)/3600,2))\n",
    "# 18 horas? Es normal? hay un error?\n",
    "# quiero hacer una grafica de dispersion para poder observar los\n",
    "# valores atipicos, si son muchos o como estan distribuidos"
   ]
  },
  {
   "cell_type": "code",
   "execution_count": 224,
   "metadata": {},
   "outputs": [
    {
     "data": {
      "image/png": "[encoded data removed]",
      "text/plain": [
       "<Figure size 432x288 with 1 Axes>"
      ]
     },
     "metadata": {
      "needs_background": "light"
     },
     "output_type": "display_data"
    }
   ],
   "source": [
    "# ¿en que horario hay mas gente conectada?\n",
    "sns.histplot(ev.hour_tz, bins = 24)\n",
    "# tiene logica este comportamiento \"humano\"\n",
    "plt.title('Horas en las que hay mas conexiones');\n",
    "# entre las 2p y las 3 pm hay mas gente conectada"
   ]
  },
  {
   "cell_type": "code",
   "execution_count": 219,
   "metadata": {},
   "outputs": [
    {
     "data": {
      "image/png": "[encoded data removed]",
      "text/plain": [
       "<Figure size 432x288 with 1 Axes>"
      ]
     },
     "metadata": {
      "needs_background": "light"
     },
     "output_type": "display_data"
    }
   ],
   "source": [
    "# ¿cual es el mes con mas conexiones?\n",
    "sns.histplot(visitantes_frecuentes.month_tz)\n",
    "plt.title('¿En que mes hay mas conexiones frecuentes?');\n",
    "# totalmente hay mas visitas en NOVIEMBRE!!! ¿por que?\n",
    "# ¿cuantas veces es mas grande noviembre vs octubre?"
   ]
  },
  {
   "cell_type": "code",
   "execution_count": 208,
   "metadata": {},
   "outputs": [
    {
     "name": "stdout",
     "output_type": "stream",
     "text": [
      "¿Cuantas horas duro la sesion mas larga?: 18.91\n"
     ]
    },
    {
     "data": {
      "image/png": "[encoded data removed]",
      "text/plain": [
       "<Figure size 432x288 with 1 Axes>"
      ]
     },
     "metadata": {
      "needs_background": "light"
     },
     "output_type": "display_data"
    }
   ],
   "source": [
    "# tiempo de sesion para visitantes\n",
    "sns.histplot(visitantes_frecuentes.day_tz, bins = 31)\n",
    "plt.title('Distribucion del tiempo de sesion para octubre y noviembre')\n",
    "print('¿Cuantas horas duro la sesion mas larga?:', round(max(visitantes_frecuentes.tiempodeses)/3600,2))"
   ]
  },
  {
   "cell_type": "code",
   "execution_count": 212,
   "metadata": {},
   "outputs": [
    {
     "data": {
      "image/png": "[encoded data removed]",
      "text/plain": [
       "<Figure size 432x288 with 1 Axes>"
      ]
     },
     "metadata": {
      "needs_background": "light"
     },
     "output_type": "display_data"
    }
   ],
   "source": [
    "# separo por mes los visitantes y que dia se conectaron mas\n",
    "# filtros: octubre, visitantes, sesion > 0\n",
    "frecuentes_positivo = visitantes_frecuentes[visitantes_frecuentes.tiempodeses >0]\n",
    "frecuentes_noviembre = frecuentes_positivo[frecuentes_positivo.month_tz == 11]\n",
    "sns.histplot(frecuentes_noviembre.day_tz, bins = 30)\n",
    "plt.title(\"¿Que dia de noviembre hubo mas visitantes frecuentes conectados?\");\n",
    "# el 4 de noviembre hubo mas visitantes frecuentes conectados\n",
    "# ¿a que se debe esta concentracion de conexiones?\n",
    "# hubo 7 dias que no se conectaron: 18, 20, 21, 22, 25, 26, 31 "
   ]
  },
  {
   "cell_type": "markdown",
   "metadata": {},
   "source": [
    "#### Desarrollo del proceso para determinar si un usuario es o no visitante. "
   ]
  },
  {
   "cell_type": "markdown",
   "metadata": {},
   "source": [
    "¿cómo me di cuenta que era necesario tener mas de una conexion para ser visitante?\n",
    "\n",
    "Porque analice la base e, intentando encontrar que era lo que los hacia visitantes, ademas del tiempo de sesion positivo, despues me pregunte si podian ser en fin de semana: no importaba el dia, el mes, e incluso habia registros que eran visitantes con tiempo de sesion = 0. \n",
    "\n",
    "Me detuve a analizar un registro en particular que tuviera todos los casos: como los registros estaban ordenados de acuerdo con la fecha de captura, me di cuenta de que un device_mac iniciaba con tiempo de sesion, usaba la conexion wifi y cuando se desconectaba volvia a valer 0. Entonces, era necesario tener mas de dos conexiones para poder abrir, usar y cerrar para poderse considerar un visitante: FRECUENTE. "
   ]
  },
  {
   "cell_type": "code",
   "execution_count": 235,
   "metadata": {},
   "outputs": [
    {
     "data": {
      "text/plain": [
       "array([ True, False])"
      ]
     },
     "execution_count": 235,
     "metadata": {},
     "output_type": "execute_result"
    }
   ],
   "source": [
    " # ¿que significa ser visitante?\n",
    "e.visitor.unique()\n",
    "# solo puede tomar uno de los siguientes dos valores: True, False"
   ]
  },
  {
   "cell_type": "code",
   "execution_count": 234,
   "metadata": {},
   "outputs": [
    {
     "data": {
      "text/html": [
       "<div>\n",
       "<style scoped>\n",
       "    .dataframe tbody tr th:only-of-type {\n",
       "        vertical-align: middle;\n",
       "    }\n",
       "\n",
       "    .dataframe tbody tr th {\n",
       "        vertical-align: top;\n",
       "    }\n",
       "\n",
       "    .dataframe thead th {\n",
       "        text-align: right;\n",
       "    }\n",
       "</style>\n",
       "<table border=\"1\" class=\"dataframe\">\n",
       "  <thead>\n",
       "    <tr style=\"text-align: right;\">\n",
       "      <th></th>\n",
       "      <th>device_mac</th>\n",
       "      <th>branch_office</th>\n",
       "      <th>month_tz</th>\n",
       "      <th>day_tz</th>\n",
       "      <th>day_of_week_tz</th>\n",
       "      <th>hour_tz</th>\n",
       "      <th>visitor</th>\n",
       "      <th>tiempodeses</th>\n",
       "    </tr>\n",
       "  </thead>\n",
       "  <tbody>\n",
       "    <tr>\n",
       "      <th>90857</th>\n",
       "      <td>60:be:b5:9c:a5:00</td>\n",
       "      <td>3</td>\n",
       "      <td>11</td>\n",
       "      <td>5</td>\n",
       "      <td>Saturday</td>\n",
       "      <td>17</td>\n",
       "      <td>False</td>\n",
       "      <td>0</td>\n",
       "    </tr>\n",
       "    <tr>\n",
       "      <th>196738</th>\n",
       "      <td>d0:13:fd:13:51:d1</td>\n",
       "      <td>3</td>\n",
       "      <td>11</td>\n",
       "      <td>6</td>\n",
       "      <td>Sunday</td>\n",
       "      <td>13</td>\n",
       "      <td>False</td>\n",
       "      <td>0</td>\n",
       "    </tr>\n",
       "    <tr>\n",
       "      <th>69700</th>\n",
       "      <td>48:5a:b6:b3:aa:de</td>\n",
       "      <td>2</td>\n",
       "      <td>11</td>\n",
       "      <td>5</td>\n",
       "      <td>Saturday</td>\n",
       "      <td>23</td>\n",
       "      <td>True</td>\n",
       "      <td>21701</td>\n",
       "    </tr>\n",
       "    <tr>\n",
       "      <th>165660</th>\n",
       "      <td>a8:9f:ba:aa:d3:51</td>\n",
       "      <td>3</td>\n",
       "      <td>11</td>\n",
       "      <td>12</td>\n",
       "      <td>Saturday</td>\n",
       "      <td>23</td>\n",
       "      <td>False</td>\n",
       "      <td>33</td>\n",
       "    </tr>\n",
       "    <tr>\n",
       "      <th>17068</th>\n",
       "      <td>0c:d7:46:74:fc:61</td>\n",
       "      <td>1</td>\n",
       "      <td>10</td>\n",
       "      <td>29</td>\n",
       "      <td>Saturday</td>\n",
       "      <td>15</td>\n",
       "      <td>True</td>\n",
       "      <td>418</td>\n",
       "    </tr>\n",
       "    <tr>\n",
       "      <th>160526</th>\n",
       "      <td>a4:70:d6:85:db:f6</td>\n",
       "      <td>3</td>\n",
       "      <td>11</td>\n",
       "      <td>13</td>\n",
       "      <td>Sunday</td>\n",
       "      <td>10</td>\n",
       "      <td>False</td>\n",
       "      <td>0</td>\n",
       "    </tr>\n",
       "    <tr>\n",
       "      <th>167385</th>\n",
       "      <td>ac:0d:1b:fe:bc:0c</td>\n",
       "      <td>1</td>\n",
       "      <td>11</td>\n",
       "      <td>6</td>\n",
       "      <td>Sunday</td>\n",
       "      <td>7</td>\n",
       "      <td>True</td>\n",
       "      <td>1797</td>\n",
       "    </tr>\n",
       "    <tr>\n",
       "      <th>176369</th>\n",
       "      <td>b4:52:7e:cc:d1:57</td>\n",
       "      <td>3</td>\n",
       "      <td>11</td>\n",
       "      <td>13</td>\n",
       "      <td>Sunday</td>\n",
       "      <td>15</td>\n",
       "      <td>True</td>\n",
       "      <td>6374</td>\n",
       "    </tr>\n",
       "  </tbody>\n",
       "</table>\n",
       "</div>"
      ],
      "text/plain": [
       "               device_mac  branch_office  month_tz  day_tz day_of_week_tz  \\\n",
       "90857   60:be:b5:9c:a5:00              3        11       5       Saturday   \n",
       "196738  d0:13:fd:13:51:d1              3        11       6         Sunday   \n",
       "69700   48:5a:b6:b3:aa:de              2        11       5       Saturday   \n",
       "165660  a8:9f:ba:aa:d3:51              3        11      12       Saturday   \n",
       "17068   0c:d7:46:74:fc:61              1        10      29       Saturday   \n",
       "160526  a4:70:d6:85:db:f6              3        11      13         Sunday   \n",
       "167385  ac:0d:1b:fe:bc:0c              1        11       6         Sunday   \n",
       "176369  b4:52:7e:cc:d1:57              3        11      13         Sunday   \n",
       "\n",
       "        hour_tz  visitor  tiempodeses  \n",
       "90857        17    False            0  \n",
       "196738       13    False            0  \n",
       "69700        23     True        21701  \n",
       "165660       23    False           33  \n",
       "17068        15     True          418  \n",
       "160526       10    False            0  \n",
       "167385        7     True         1797  \n",
       "176369       15     True         6374  "
      ]
     },
     "execution_count": 234,
     "metadata": {},
     "output_type": "execute_result"
    }
   ],
   "source": [
    "e[(e.day_of_week_tz == 'Sunday') | (e.day_of_week_tz == 'Saturday')].sample(8)\n",
    "# Conslusion: 1. Puedes ser visitante en domingo, ¿puedes ser visitante en sabado?"
   ]
  },
  {
   "cell_type": "code",
   "execution_count": 240,
   "metadata": {},
   "outputs": [
    {
     "data": {
      "text/html": [
       "<div>\n",
       "<style scoped>\n",
       "    .dataframe tbody tr th:only-of-type {\n",
       "        vertical-align: middle;\n",
       "    }\n",
       "\n",
       "    .dataframe tbody tr th {\n",
       "        vertical-align: top;\n",
       "    }\n",
       "\n",
       "    .dataframe thead th {\n",
       "        text-align: right;\n",
       "    }\n",
       "</style>\n",
       "<table border=\"1\" class=\"dataframe\">\n",
       "  <thead>\n",
       "    <tr style=\"text-align: right;\">\n",
       "      <th></th>\n",
       "      <th>device_mac</th>\n",
       "      <th>branch_office</th>\n",
       "      <th>month_tz</th>\n",
       "      <th>day_tz</th>\n",
       "      <th>day_of_week_tz</th>\n",
       "      <th>hour_tz</th>\n",
       "      <th>visitor</th>\n",
       "      <th>tiempodeses</th>\n",
       "    </tr>\n",
       "  </thead>\n",
       "  <tbody>\n",
       "    <tr>\n",
       "      <th>34</th>\n",
       "      <td>00:02:71:c3:2f:9d</td>\n",
       "      <td>1</td>\n",
       "      <td>11</td>\n",
       "      <td>16</td>\n",
       "      <td>Wednesday</td>\n",
       "      <td>18</td>\n",
       "      <td>False</td>\n",
       "      <td>61</td>\n",
       "    </tr>\n",
       "    <tr>\n",
       "      <th>45</th>\n",
       "      <td>00:02:cf:88:74:5d</td>\n",
       "      <td>3</td>\n",
       "      <td>11</td>\n",
       "      <td>3</td>\n",
       "      <td>Thursday</td>\n",
       "      <td>15</td>\n",
       "      <td>False</td>\n",
       "      <td>56</td>\n",
       "    </tr>\n",
       "    <tr>\n",
       "      <th>51</th>\n",
       "      <td>00:02:e2:5d:77:de</td>\n",
       "      <td>3</td>\n",
       "      <td>11</td>\n",
       "      <td>9</td>\n",
       "      <td>Wednesday</td>\n",
       "      <td>13</td>\n",
       "      <td>False</td>\n",
       "      <td>1</td>\n",
       "    </tr>\n",
       "    <tr>\n",
       "      <th>53</th>\n",
       "      <td>00:02:ed:96:92:ee</td>\n",
       "      <td>1</td>\n",
       "      <td>11</td>\n",
       "      <td>1</td>\n",
       "      <td>Tuesday</td>\n",
       "      <td>3</td>\n",
       "      <td>False</td>\n",
       "      <td>20</td>\n",
       "    </tr>\n",
       "    <tr>\n",
       "      <th>182</th>\n",
       "      <td>00:07:88:f0:40:43</td>\n",
       "      <td>1</td>\n",
       "      <td>10</td>\n",
       "      <td>28</td>\n",
       "      <td>Friday</td>\n",
       "      <td>9</td>\n",
       "      <td>False</td>\n",
       "      <td>28</td>\n",
       "    </tr>\n",
       "  </tbody>\n",
       "</table>\n",
       "</div>"
      ],
      "text/plain": [
       "            device_mac  branch_office  month_tz  day_tz day_of_week_tz  \\\n",
       "34   00:02:71:c3:2f:9d              1        11      16      Wednesday   \n",
       "45   00:02:cf:88:74:5d              3        11       3       Thursday   \n",
       "51   00:02:e2:5d:77:de              3        11       9      Wednesday   \n",
       "53   00:02:ed:96:92:ee              1        11       1        Tuesday   \n",
       "182  00:07:88:f0:40:43              1        10      28         Friday   \n",
       "\n",
       "     hour_tz  visitor  tiempodeses  \n",
       "34        18    False           61  \n",
       "45        15    False           56  \n",
       "51        13    False            1  \n",
       "53         3    False           20  \n",
       "182        9    False           28  "
      ]
     },
     "execution_count": 240,
     "metadata": {},
     "output_type": "execute_result"
    }
   ],
   "source": [
    "# tiempo de sesion >0 pero no son visitantes, los dias son entre semana y en fin tambien \n",
    "# ¿justo aqui entra ML? para encontrar el patron de por que son o no visitantes???\n",
    "e[(e.visitor == False) & (e.tiempodeses > 0)].head()"
   ]
  },
  {
   "cell_type": "code",
   "execution_count": 33,
   "metadata": {},
   "outputs": [
    {
     "name": "stderr",
     "output_type": "stream",
     "text": [
      "<string>:6: RuntimeWarning: Converting input from bool to <class 'numpy.uint8'> for compatibility.\n",
      "<string>:6: RuntimeWarning: Converting input from bool to <class 'numpy.uint8'> for compatibility.\n"
     ]
    },
    {
     "data": {
      "text/plain": [
       "<seaborn.axisgrid.PairGrid at 0x2495ff713c8>"
      ]
     },
     "execution_count": 33,
     "metadata": {},
     "output_type": "execute_result"
    },
    {
     "data": {
      "image/png": "[encoded data removed]",
      "text/plain": [
       "<Figure size 1080x1080 with 42 Axes>"
      ]
     },
     "metadata": {
      "needs_background": "light"
     },
     "output_type": "display_data"
    }
   ],
   "source": [
    "# graficar por pares para encontrar patrones\n",
    "# ayudo en la identificacion de que es un visitante\n",
    "sns.pairplot(e)"
   ]
  },
  {
   "cell_type": "markdown",
   "metadata": {},
   "source": [
    "Observaciones extras:"
   ]
  },
  {
   "cell_type": "code",
   "execution_count": null,
   "metadata": {},
   "outputs": [],
   "source": [
    "# reisar si hay registros para los primeros dias del mes de octubre, puede ser que\n",
    "# el resultado que muestra mayor actividad en noviembre se deba a que no hay registros de los\n",
    "# primeros dias de octubre, mas que a un comportamiento en los usuarios\n",
    "# tambien se muestra que para el mes de octubre solo la primera estacion tiene registros\n",
    "# ¿ no hay registros para octubre en las otras dos estaciones? ¿ por que?\n",
    "# esto tambien afecta en las comparaciones, debido a que solo puedo hacerlas entre las\n",
    "# estaciones cuya info este disponible\n",
    "# que pasa cerca del dia 21 del mes que no hay registros ?\n",
    "# en los ultimos dias del mes es cuando los usuarios pasan mas tiempo en sus sesiones\n",
    "# las sesiones se concentran en un horario por la tarde, no suelen estar conectados \n",
    "# ni tan temprano, ni tan noche\n",
    "# lo que hace que se sea un visitante es haberse conectado o haber tenido una sesion\n",
    "# de mas de 0 segundos\n",
    "# cerca del 50% de los datos de la base son de personas que no tuvieron una sesion, \n",
    "# es decir no fueron visitantes"
   ]
  },
  {
   "cell_type": "markdown",
   "metadata": {},
   "source": [
    "Intente encontrar el patron mediante ML:\n",
    "\n",
    "Se complico al momento de indicar un conteo de las device_mac. NO FUNCIONO"
   ]
  },
  {
   "cell_type": "code",
   "execution_count": null,
   "metadata": {},
   "outputs": [],
   "source": [
    "import tensorflow as tf"
   ]
  },
  {
   "cell_type": "code",
   "execution_count": null,
   "metadata": {},
   "outputs": [],
   "source": [
    "e = pd.read_csv('e.csv') # no hay ruta a mi pc\n",
    "# porque se añade directamente el .csv a google"
   ]
  },
  {
   "cell_type": "code",
   "execution_count": null,
   "metadata": {},
   "outputs": [],
   "source": [
    "sesion = e.tiempodeses\n",
    "visitante = e.visitor"
   ]
  },
  {
   "cell_type": "code",
   "execution_count": null,
   "metadata": {},
   "outputs": [],
   "source": [
    "capa = tf.keras.layers.Dense(units = 2, input_shape = [1], activation=  'sigmoid')\n",
    "# use sigmoid porque necesito una clasificacion entre \n",
    "# es visitante, no es visitante"
   ]
  },
  {
   "cell_type": "code",
   "execution_count": null,
   "metadata": {},
   "outputs": [],
   "source": [
    "modelo = tf.keras.Sequential([capa])"
   ]
  },
  {
   "cell_type": "code",
   "execution_count": null,
   "metadata": {},
   "outputs": [],
   "source": [
    "modelo.compile(\n",
    "    optimizer = tf.keras.optimizers.Adam(0.44), \n",
    "    loss = 'mean_squared_error',\n",
    "    metrics = 'accuracy'\n",
    ")"
   ]
  },
  {
   "cell_type": "code",
   "execution_count": null,
   "metadata": {},
   "outputs": [],
   "source": [
    "print('inicia el entrenamiento del modelo')\n",
    "historial = modelo.fit(sesion, visitante, epochs = 10, verbose = True)\n",
    "print('el modelo ha sido entrenado')"
   ]
  },
  {
   "cell_type": "code",
   "execution_count": null,
   "metadata": {},
   "outputs": [],
   "source": [
    "print('voy a hacer una prediccion con mi modelo entrenado:')\n",
    "resultado = modelo.predict([1])\n",
    "print('cuando la entrada es mayor que 0 la prediccion es: ', resultado)\n",
    "resultado = modelo.predict([0])\n",
    "print('cuando la entrada es 0, la prediccion es: ', resultado)\n",
    "\n",
    "# no funciono correctamente, me tuvo que haber regresado dos numeros entre [0,1]\n",
    "# que indican la probabilidad de que sea cierta etiqueta\n",
    "# cuando se le mete tiempo de sesion >0 deberia dar \n",
    "# mayor probabilidad a la etiqueta visitante\n",
    "# mismo proceso para el otro caso, cuando el tiempo\n",
    "# de sesion es 0, la etiqueta con mayor probabilidad\n",
    "# deberia ser no visitante"
   ]
  },
  {
   "cell_type": "markdown",
   "metadata": {},
   "source": [
    "### "
   ]
  }
 ],
 "metadata": {
  "kernelspec": {
   "display_name": "Python 3",
   "language": "python",
   "name": "python3"
  },
  "language_info": {
   "codemirror_mode": {
    "name": "ipython",
    "version": 3
   },
   "file_extension": ".py",
   "mimetype": "text/x-python",
   "name": "python",
   "nbconvert_exporter": "python",
   "pygments_lexer": "ipython3",
   "version": "3.7.6"
  }
 },
 "nbformat": 4,
 "nbformat_minor": 4
}
